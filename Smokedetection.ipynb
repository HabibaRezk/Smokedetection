{
 "cells": [
  {
   "cell_type": "code",
   "execution_count": 1,
   "id": "1c0f2f7a",
   "metadata": {},
   "outputs": [
    {
     "name": "stdout",
     "output_type": "stream",
     "text": [
      "Number of features: 16\n"
     ]
    }
   ],
   "source": [
    "import pandas as pd\n",
    "from sklearn.model_selection import train_test_split\n",
    "from sklearn import svm\n",
    "\n",
    "# Load the dataset into a pandas DataFrame\n",
    "df = pd.read_csv(r\"C:\\Users\\Habiba\\Downloads\\Machine-Learning-Course-main\\Machine-Learning-Course-main\\Data\\smoke_detection_iot.csv\")\n",
    "\n",
    "# Get the number of features\n",
    "num_features = df.shape[1]\n",
    "\n",
    "print('Number of features:', num_features)"
   ]
  },
  {
   "cell_type": "code",
   "execution_count": 2,
   "id": "ae186c5d",
   "metadata": {},
   "outputs": [
    {
     "name": "stdout",
     "output_type": "stream",
     "text": [
      "Number of data points: 62630\n"
     ]
    }
   ],
   "source": [
    "# Get the number of data points\n",
    "\n",
    "num_data_points = df.shape[0]\n",
    "\n",
    "print('Number of data points:', num_data_points)"
   ]
  },
  {
   "cell_type": "code",
   "execution_count": 3,
   "id": "d9d6b6fb",
   "metadata": {},
   "outputs": [
    {
     "name": "stdout",
     "output_type": "stream",
     "text": [
      "   num  Temperature  Humidity  TVOC  eCO2  Raw_H2  Raw_Ethanol  Pressure  PM1  \\\n",
      "0    0       20.000     57.36     0   400   12306        18520   939.735  0.0   \n",
      "1    1       20.015     56.67     0   400   12345        18651   939.744  0.0   \n",
      "2    2       20.029     55.96     0   400   12374        18764   939.738  0.0   \n",
      "3    3       20.044     55.28     0   400   12390        18849   939.736  0.0   \n",
      "4    4       20.059     54.69     0   400   12403        18921   939.744  0.0   \n",
      "\n",
      "   PM2  NC0  NC1  NC2  CNT  Fire_Alarm  \n",
      "0  0.0  0.0  0.0  0.0    0           0  \n",
      "1  0.0  0.0  0.0  0.0    1           0  \n",
      "2  0.0  0.0  0.0  0.0    2           0  \n",
      "3  0.0  0.0  0.0  0.0    3           0  \n",
      "4  0.0  0.0  0.0  0.0    4           0  \n"
     ]
    }
   ],
   "source": [
    "# Drop the 'UTC' column\n",
    "\n",
    "df = df.drop('UTC', axis=1)\n",
    "\n",
    "print(df.head())"
   ]
  },
  {
   "cell_type": "code",
   "execution_count": null,
   "id": "f4e4f07f",
   "metadata": {},
   "outputs": [],
   "source": []
  }
 ],
 "metadata": {
  "kernelspec": {
   "display_name": "Python 3 (ipykernel)",
   "language": "python",
   "name": "python3"
  },
  "language_info": {
   "codemirror_mode": {
    "name": "ipython",
    "version": 3
   },
   "file_extension": ".py",
   "mimetype": "text/x-python",
   "name": "python",
   "nbconvert_exporter": "python",
   "pygments_lexer": "ipython3",
   "version": "3.10.9"
  }
 },
 "nbformat": 4,
 "nbformat_minor": 5
}
